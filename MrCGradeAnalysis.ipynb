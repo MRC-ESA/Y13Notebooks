{
  "nbformat": 4,
  "nbformat_minor": 0,
  "metadata": {
    "colab": {
      "provenance": [],
      "mount_file_id": "1bNzlYJwrQKpM1JUcm_rUt1jCGJJiBRN6",
      "authorship_tag": "ABX9TyPKxvGiPSnLtv8ilNcsIdq8",
      "include_colab_link": true
    },
    "kernelspec": {
      "name": "python3",
      "display_name": "Python 3"
    },
    "language_info": {
      "name": "python"
    }
  },
  "cells": [
    {
      "cell_type": "markdown",
      "metadata": {
        "id": "view-in-github",
        "colab_type": "text"
      },
      "source": [
        "<a href=\"https://colab.research.google.com/github/MRC-ESA/Y13Notebooks/blob/main/MrCGradeAnalysis.ipynb\" target=\"_parent\"><img src=\"https://colab.research.google.com/assets/colab-badge.svg\" alt=\"Open In Colab\"/></a>"
      ]
    },
    {
      "cell_type": "markdown",
      "source": [
        "\n",
        "# AS Level Grade Analysis\n",
        "\n",
        "The following code will...\n",
        "\n",
        "1.   Extract data from a text file\n",
        "2.   Populate an array of objects with the data from the text file\n",
        "3.   Calulate the letter grades for each subject\n",
        "4.   Output the data \n",
        "\n"
      ],
      "metadata": {
        "id": "fmrfn3suyyFt"
      }
    },
    {
      "cell_type": "markdown",
      "source": [
        "## Extract the data from the text file\n"
      ],
      "metadata": {
        "id": "kSEnIYNf0AmI"
      }
    },
    {
      "cell_type": "code",
      "execution_count": 6,
      "metadata": {
        "colab": {
          "base_uri": "https://localhost:8080/"
        },
        "id": "WoKicOXMyGBj",
        "outputId": "a341ec21-724f-4f3b-9241-f930beb324ae"
      },
      "outputs": [
        {
          "output_type": "stream",
          "name": "stdout",
          "text": [
            "Subject Computer Science\n",
            "\n",
            "Mark: 100\n",
            "\n",
            "Subject Further Maths\n",
            "\n",
            "Mark: 45\n",
            "\n",
            "Subject French\n",
            "\n",
            "Mark: 2\n",
            "\n"
          ]
        }
      ],
      "source": [
        "SubjectMarks = open(\"/content/sample_data/ASSubjectMarks.txt\", \"r\")\n",
        "Subject = SubjectMarks.readline()\n",
        "while Subject != \"\":\n",
        "  Mark = SubjectMarks.readline()\n",
        "  print(\"Subject:\", Subject)\n",
        "  print(\"Mark:\", Mark)\n",
        "  Subject = SubjectMarks.readline()\n",
        "\n",
        "SubjectMarks.close()"
      ]
    }
  ]
}